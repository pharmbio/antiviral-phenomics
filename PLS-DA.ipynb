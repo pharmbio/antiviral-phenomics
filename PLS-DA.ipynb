{
 "cells": [
  {
   "cell_type": "code",
   "execution_count": 1,
   "metadata": {},
   "outputs": [],
   "source": [
    "import os\n",
    "import pandas as pd \n",
    "import numpy as np\n",
    "from sklearn.cross_decomposition import PLSRegression\n",
    "from sklearn.preprocessing import StandardScaler\n",
    "from sklearn.metrics import roc_curve, auc, roc_auc_score\n",
    "from sklearn.model_selection import cross_validate, cross_val_score, KFold\n",
    "import matplotlib  as mpl\n",
    "import matplotlib.pyplot as plt\n",
    "%matplotlib inline\n",
    "import os, shutil, glob\n",
    "import seaborn as sns; sns.set_style(\"white\")\n",
    "import gc"
   ]
  },
  {
   "cell_type": "markdown",
   "metadata": {},
   "source": [
    "### Read data"
   ]
  },
  {
   "cell_type": "code",
   "execution_count": 2,
   "metadata": {},
   "outputs": [
    {
     "data": {
      "text/plain": [
       "['.ipynb_checkpoints',\n",
       " 'Features_5_percent_sample_Plate5.csv',\n",
       " 'Features_images_MCR5_HCoV229_Plate5.csv',\n",
       " 'Features_images_MRC5_HCoV229.csv',\n",
       " 'qcRAW_images_MRC5_HCoV229_Plate1.csv',\n",
       " 'qcRAW_images_MRC5_HCoV229_Plate2.csv',\n",
       " 'qcRAW_images_MRC5_Plate3.csv',\n",
       " 'qcRAW_images_MRC5_Plate4.csv']"
      ]
     },
     "execution_count": 2,
     "metadata": {},
     "output_type": "execute_result"
    }
   ],
   "source": [
    "BaseDir = 'Datasets'\n",
    "sorted(os.listdir(BaseDir))"
   ]
  },
  {
   "cell_type": "code",
   "execution_count": 3,
   "metadata": {},
   "outputs": [
    {
     "data": {
      "text/plain": [
       "(2733, 1820)"
      ]
     },
     "execution_count": 3,
     "metadata": {},
     "output_type": "execute_result"
    }
   ],
   "source": [
    "Dataset = pd.read_csv('{}/Features_5_percent_sample_Plate5.csv'.format(BaseDir), sep = ';', low_memory=False)\n",
    "Dataset.shape"
   ]
  },
  {
   "cell_type": "markdown",
   "metadata": {},
   "source": [
    "### Output directory"
   ]
  },
  {
   "cell_type": "code",
   "execution_count": 4,
   "metadata": {},
   "outputs": [
    {
     "name": "stdin",
     "output_type": "stream",
     "text": [
      "Enter name for output folder:  Results\n"
     ]
    }
   ],
   "source": [
    "OutputDir = input(\"Enter name for output folder: \") \n",
    "if not os.path.exists(OutputDir): \n",
    "    os.makedirs(OutputDir)"
   ]
  },
  {
   "cell_type": "code",
   "execution_count": 5,
   "metadata": {},
   "outputs": [],
   "source": [
    "Dataset = Dataset.sample(frac=1).reset_index(drop=True) # randomize order of rows"
   ]
  },
  {
   "cell_type": "code",
   "execution_count": 6,
   "metadata": {},
   "outputs": [
    {
     "name": "stdout",
     "output_type": "stream",
     "text": [
      "Found 1793 numeric columns\n"
     ]
    }
   ],
   "source": [
    "numeric_columns = list()\n",
    "for a in Dataset.columns:\n",
    "    if (Dataset.dtypes[a] == 'float64') | (Dataset.dtypes[a] == 'int64') :\n",
    "        numeric_columns.append(a)\n",
    "print('Found {} numeric columns'.format(len(numeric_columns)))"
   ]
  },
  {
   "cell_type": "code",
   "execution_count": 7,
   "metadata": {},
   "outputs": [
    {
     "name": "stdout",
     "output_type": "stream",
     "text": [
      "Excluded columns that are \"Metadata\", \"Number\", \"MITO\": 1452\n",
      "Excluded features with SD < 0.001 and SD > 10000: 1331\n",
      "Removed features with missing values: 1291\n"
     ]
    },
    {
     "data": {
      "text/html": [
       "<div>\n",
       "<style scoped>\n",
       "    .dataframe tbody tr th:only-of-type {\n",
       "        vertical-align: middle;\n",
       "    }\n",
       "\n",
       "    .dataframe tbody tr th {\n",
       "        vertical-align: top;\n",
       "    }\n",
       "\n",
       "    .dataframe thead th {\n",
       "        text-align: right;\n",
       "    }\n",
       "</style>\n",
       "<table border=\"1\" class=\"dataframe\">\n",
       "  <thead>\n",
       "    <tr style=\"text-align: right;\">\n",
       "      <th></th>\n",
       "      <th>AreaShape_Area_primobj</th>\n",
       "      <th>AreaShape_BoundingBoxArea_primobj</th>\n",
       "      <th>AreaShape_BoundingBoxMaximum_X_primobj</th>\n",
       "      <th>AreaShape_BoundingBoxMaximum_Y_primobj</th>\n",
       "      <th>AreaShape_BoundingBoxMinimum_X_primobj</th>\n",
       "      <th>AreaShape_BoundingBoxMinimum_Y_primobj</th>\n",
       "      <th>AreaShape_Center_X_primobj</th>\n",
       "      <th>AreaShape_Center_Y_primobj</th>\n",
       "      <th>AreaShape_CentralMoment_0_0_primobj</th>\n",
       "      <th>AreaShape_Compactness_primobj</th>\n",
       "      <th>...</th>\n",
       "      <th>RadialDistribution_RadialCV_illumPHAandWGA_1of4_quatobj</th>\n",
       "      <th>RadialDistribution_RadialCV_illumPHAandWGA_2of4_quatobj</th>\n",
       "      <th>RadialDistribution_RadialCV_illumPHAandWGA_3of4_quatobj</th>\n",
       "      <th>RadialDistribution_RadialCV_illumPHAandWGA_4of4_quatobj</th>\n",
       "      <th>RadialDistribution_RadialCV_illumPHAandWGA_Overflow_quatobj</th>\n",
       "      <th>RadialDistribution_RadialCV_illumSYTO_1of4_quatobj</th>\n",
       "      <th>RadialDistribution_RadialCV_illumSYTO_2of4_quatobj</th>\n",
       "      <th>RadialDistribution_RadialCV_illumSYTO_3of4_quatobj</th>\n",
       "      <th>RadialDistribution_RadialCV_illumSYTO_4of4_quatobj</th>\n",
       "      <th>RadialDistribution_RadialCV_illumSYTO_Overflow_quatobj</th>\n",
       "    </tr>\n",
       "  </thead>\n",
       "  <tbody>\n",
       "    <tr>\n",
       "      <th>2728</th>\n",
       "      <td>976</td>\n",
       "      <td>1395</td>\n",
       "      <td>1244</td>\n",
       "      <td>856</td>\n",
       "      <td>1199</td>\n",
       "      <td>825</td>\n",
       "      <td>1220.515369</td>\n",
       "      <td>840.088115</td>\n",
       "      <td>976</td>\n",
       "      <td>1.229748</td>\n",
       "      <td>...</td>\n",
       "      <td>0.218136</td>\n",
       "      <td>0.449773</td>\n",
       "      <td>0.0</td>\n",
       "      <td>0.0</td>\n",
       "      <td>0.0</td>\n",
       "      <td>0.215494</td>\n",
       "      <td>0.471924</td>\n",
       "      <td>0.0</td>\n",
       "      <td>0.0</td>\n",
       "      <td>0.0</td>\n",
       "    </tr>\n",
       "    <tr>\n",
       "      <th>2729</th>\n",
       "      <td>1451</td>\n",
       "      <td>2070</td>\n",
       "      <td>103</td>\n",
       "      <td>824</td>\n",
       "      <td>58</td>\n",
       "      <td>778</td>\n",
       "      <td>79.909028</td>\n",
       "      <td>800.550655</td>\n",
       "      <td>1451</td>\n",
       "      <td>1.156197</td>\n",
       "      <td>...</td>\n",
       "      <td>0.124624</td>\n",
       "      <td>0.192105</td>\n",
       "      <td>0.0</td>\n",
       "      <td>0.0</td>\n",
       "      <td>0.0</td>\n",
       "      <td>0.131163</td>\n",
       "      <td>0.204402</td>\n",
       "      <td>0.0</td>\n",
       "      <td>0.0</td>\n",
       "      <td>0.0</td>\n",
       "    </tr>\n",
       "    <tr>\n",
       "      <th>2730</th>\n",
       "      <td>1536</td>\n",
       "      <td>2058</td>\n",
       "      <td>811</td>\n",
       "      <td>957</td>\n",
       "      <td>769</td>\n",
       "      <td>908</td>\n",
       "      <td>789.091797</td>\n",
       "      <td>931.507162</td>\n",
       "      <td>1536</td>\n",
       "      <td>1.118814</td>\n",
       "      <td>...</td>\n",
       "      <td>0.149194</td>\n",
       "      <td>0.104270</td>\n",
       "      <td>0.0</td>\n",
       "      <td>0.0</td>\n",
       "      <td>0.0</td>\n",
       "      <td>0.136669</td>\n",
       "      <td>0.136789</td>\n",
       "      <td>0.0</td>\n",
       "      <td>0.0</td>\n",
       "      <td>0.0</td>\n",
       "    </tr>\n",
       "    <tr>\n",
       "      <th>2731</th>\n",
       "      <td>1770</td>\n",
       "      <td>2275</td>\n",
       "      <td>1127</td>\n",
       "      <td>768</td>\n",
       "      <td>1062</td>\n",
       "      <td>733</td>\n",
       "      <td>1093.893785</td>\n",
       "      <td>750.899435</td>\n",
       "      <td>1770</td>\n",
       "      <td>1.249521</td>\n",
       "      <td>...</td>\n",
       "      <td>0.313989</td>\n",
       "      <td>0.235822</td>\n",
       "      <td>0.0</td>\n",
       "      <td>0.0</td>\n",
       "      <td>0.0</td>\n",
       "      <td>0.150128</td>\n",
       "      <td>0.156854</td>\n",
       "      <td>0.0</td>\n",
       "      <td>0.0</td>\n",
       "      <td>0.0</td>\n",
       "    </tr>\n",
       "    <tr>\n",
       "      <th>2732</th>\n",
       "      <td>1461</td>\n",
       "      <td>2156</td>\n",
       "      <td>788</td>\n",
       "      <td>1153</td>\n",
       "      <td>739</td>\n",
       "      <td>1109</td>\n",
       "      <td>762.770020</td>\n",
       "      <td>1130.483915</td>\n",
       "      <td>1461</td>\n",
       "      <td>1.184029</td>\n",
       "      <td>...</td>\n",
       "      <td>0.223240</td>\n",
       "      <td>0.415580</td>\n",
       "      <td>0.0</td>\n",
       "      <td>0.0</td>\n",
       "      <td>0.0</td>\n",
       "      <td>0.136087</td>\n",
       "      <td>0.251146</td>\n",
       "      <td>0.0</td>\n",
       "      <td>0.0</td>\n",
       "      <td>0.0</td>\n",
       "    </tr>\n",
       "  </tbody>\n",
       "</table>\n",
       "<p>5 rows × 1291 columns</p>\n",
       "</div>"
      ],
      "text/plain": [
       "      AreaShape_Area_primobj  AreaShape_BoundingBoxArea_primobj  \\\n",
       "2728                     976                               1395   \n",
       "2729                    1451                               2070   \n",
       "2730                    1536                               2058   \n",
       "2731                    1770                               2275   \n",
       "2732                    1461                               2156   \n",
       "\n",
       "      AreaShape_BoundingBoxMaximum_X_primobj  \\\n",
       "2728                                    1244   \n",
       "2729                                     103   \n",
       "2730                                     811   \n",
       "2731                                    1127   \n",
       "2732                                     788   \n",
       "\n",
       "      AreaShape_BoundingBoxMaximum_Y_primobj  \\\n",
       "2728                                     856   \n",
       "2729                                     824   \n",
       "2730                                     957   \n",
       "2731                                     768   \n",
       "2732                                    1153   \n",
       "\n",
       "      AreaShape_BoundingBoxMinimum_X_primobj  \\\n",
       "2728                                    1199   \n",
       "2729                                      58   \n",
       "2730                                     769   \n",
       "2731                                    1062   \n",
       "2732                                     739   \n",
       "\n",
       "      AreaShape_BoundingBoxMinimum_Y_primobj  AreaShape_Center_X_primobj  \\\n",
       "2728                                     825                 1220.515369   \n",
       "2729                                     778                   79.909028   \n",
       "2730                                     908                  789.091797   \n",
       "2731                                     733                 1093.893785   \n",
       "2732                                    1109                  762.770020   \n",
       "\n",
       "      AreaShape_Center_Y_primobj  AreaShape_CentralMoment_0_0_primobj  \\\n",
       "2728                  840.088115                                  976   \n",
       "2729                  800.550655                                 1451   \n",
       "2730                  931.507162                                 1536   \n",
       "2731                  750.899435                                 1770   \n",
       "2732                 1130.483915                                 1461   \n",
       "\n",
       "      AreaShape_Compactness_primobj  ...  \\\n",
       "2728                       1.229748  ...   \n",
       "2729                       1.156197  ...   \n",
       "2730                       1.118814  ...   \n",
       "2731                       1.249521  ...   \n",
       "2732                       1.184029  ...   \n",
       "\n",
       "      RadialDistribution_RadialCV_illumPHAandWGA_1of4_quatobj  \\\n",
       "2728                                           0.218136         \n",
       "2729                                           0.124624         \n",
       "2730                                           0.149194         \n",
       "2731                                           0.313989         \n",
       "2732                                           0.223240         \n",
       "\n",
       "      RadialDistribution_RadialCV_illumPHAandWGA_2of4_quatobj  \\\n",
       "2728                                           0.449773         \n",
       "2729                                           0.192105         \n",
       "2730                                           0.104270         \n",
       "2731                                           0.235822         \n",
       "2732                                           0.415580         \n",
       "\n",
       "      RadialDistribution_RadialCV_illumPHAandWGA_3of4_quatobj  \\\n",
       "2728                                                0.0         \n",
       "2729                                                0.0         \n",
       "2730                                                0.0         \n",
       "2731                                                0.0         \n",
       "2732                                                0.0         \n",
       "\n",
       "      RadialDistribution_RadialCV_illumPHAandWGA_4of4_quatobj  \\\n",
       "2728                                                0.0         \n",
       "2729                                                0.0         \n",
       "2730                                                0.0         \n",
       "2731                                                0.0         \n",
       "2732                                                0.0         \n",
       "\n",
       "      RadialDistribution_RadialCV_illumPHAandWGA_Overflow_quatobj  \\\n",
       "2728                                                0.0             \n",
       "2729                                                0.0             \n",
       "2730                                                0.0             \n",
       "2731                                                0.0             \n",
       "2732                                                0.0             \n",
       "\n",
       "      RadialDistribution_RadialCV_illumSYTO_1of4_quatobj  \\\n",
       "2728                                           0.215494    \n",
       "2729                                           0.131163    \n",
       "2730                                           0.136669    \n",
       "2731                                           0.150128    \n",
       "2732                                           0.136087    \n",
       "\n",
       "      RadialDistribution_RadialCV_illumSYTO_2of4_quatobj  \\\n",
       "2728                                           0.471924    \n",
       "2729                                           0.204402    \n",
       "2730                                           0.136789    \n",
       "2731                                           0.156854    \n",
       "2732                                           0.251146    \n",
       "\n",
       "      RadialDistribution_RadialCV_illumSYTO_3of4_quatobj  \\\n",
       "2728                                                0.0    \n",
       "2729                                                0.0    \n",
       "2730                                                0.0    \n",
       "2731                                                0.0    \n",
       "2732                                                0.0    \n",
       "\n",
       "      RadialDistribution_RadialCV_illumSYTO_4of4_quatobj  \\\n",
       "2728                                                0.0    \n",
       "2729                                                0.0    \n",
       "2730                                                0.0    \n",
       "2731                                                0.0    \n",
       "2732                                                0.0    \n",
       "\n",
       "      RadialDistribution_RadialCV_illumSYTO_Overflow_quatobj  \n",
       "2728                                                0.0       \n",
       "2729                                                0.0       \n",
       "2730                                                0.0       \n",
       "2731                                                0.0       \n",
       "2732                                                0.0       \n",
       "\n",
       "[5 rows x 1291 columns]"
      ]
     },
     "execution_count": 7,
     "metadata": {},
     "output_type": "execute_result"
    }
   ],
   "source": [
    "feature_columns = [fc for fc in numeric_columns if ('Metadata' not in fc) & ('ObjectNumber' not in fc) & ('MITO' not in fc)\n",
    "                   &  ('Infected' not in fc)]\n",
    "print('Excluded columns that are \"Metadata\", \"Number\", \"MITO\": {}'.format(len(feature_columns)))\n",
    "X = Dataset.loc[:, feature_columns]\n",
    "Xvarying = X.loc[:, ((X.std() > 0.001) & (X.std() < 10000))].copy()\n",
    "del X\n",
    "gc.collect()\n",
    "print('Excluded features with SD < 0.001 and SD > 10000: {}'.format(Xvarying.shape[1]))\n",
    "Xvarying.dropna(axis=1, inplace=True)\n",
    "print('Removed features with missing values: {}'.format(Xvarying.shape[1]))\n",
    "varying_features = list(Xvarying.columns)\n",
    "Xvarying.tail()"
   ]
  },
  {
   "cell_type": "markdown",
   "metadata": {},
   "source": [
    "### PLS-DA"
   ]
  },
  {
   "cell_type": "code",
   "execution_count": 8,
   "metadata": {},
   "outputs": [],
   "source": [
    "pls_DA_x = Dataset[varying_features].copy()"
   ]
  },
  {
   "cell_type": "code",
   "execution_count": 9,
   "metadata": {},
   "outputs": [],
   "source": [
    "pls_DA_y = Dataset['Infected']"
   ]
  },
  {
   "cell_type": "code",
   "execution_count": 10,
   "metadata": {},
   "outputs": [],
   "source": [
    "pls_DA_x_values = StandardScaler().fit_transform(pls_DA_x.values)\n",
    "pls_DA_y_values =StandardScaler().fit_transform(pls_DA_y.values.reshape(-1, 1))"
   ]
  },
  {
   "cell_type": "code",
   "execution_count": 11,
   "metadata": {},
   "outputs": [],
   "source": [
    "pls_DA = PLSRegression(n_components = 7)\n",
    "pls_DA.fit(pls_DA_x_values, pls_DA_y_values)\n",
    "DAscores = pls_DA.x_scores_\n",
    "DAscoreDF = pd.DataFrame(data = DAscores) \n",
    "DAscoreDF.rename(columns={0: 'comp1', 1: 'comp2'}, inplace=True)\n",
    "DAscoreDF['Infected'] = Dataset['Infected']\n",
    "DAscoreDF['Intensity_MeanIntensity_illumMITO_quatobj'] = Dataset['Intensity_MeanIntensity_illumMITO_quatobj']"
   ]
  },
  {
   "cell_type": "code",
   "execution_count": 12,
   "metadata": {},
   "outputs": [
    {
     "name": "stdout",
     "output_type": "stream",
     "text": [
      "R^2: 0.741\n"
     ]
    }
   ],
   "source": [
    "R2 = pls_DA.score(pls_DA_x_values,pls_DA_y_values, sample_weight=None)\n",
    "print('R^2: {:.3f}'.format(R2)) "
   ]
  },
  {
   "cell_type": "code",
   "execution_count": 13,
   "metadata": {},
   "outputs": [
    {
     "name": "stdout",
     "output_type": "stream",
     "text": [
      "[0.67032768 0.6994142  0.65000506]\n",
      "Q^2: 0.673\n"
     ]
    }
   ],
   "source": [
    "Q2 = cross_val_score(pls_DA, pls_DA_x_values,pls_DA_y_values, cv=3)\n",
    "print(Q2)\n",
    "print('Q^2: {:.3f}'.format(Q2.mean()))"
   ]
  },
  {
   "cell_type": "code",
   "execution_count": 14,
   "metadata": {},
   "outputs": [],
   "source": [
    "DAy_calc = pls_DA.predict(pls_DA_x_values)\n",
    "DAobserved_calculated = pd.DataFrame(np.concatenate((pls_DA_y_values,DAy_calc),axis=1), columns = ['obs', 'pred'])\n",
    "DAobserved_calculated['Infected'] = Dataset['Infected']"
   ]
  },
  {
   "cell_type": "code",
   "execution_count": 15,
   "metadata": {},
   "outputs": [
    {
     "data": {
      "image/png": "[encoded data removed]",
      "text/plain": [
       "<Figure size 360x360 with 1 Axes>"
      ]
     },
     "metadata": {},
     "output_type": "display_data"
    }
   ],
   "source": [
    "fig = plt.figure(figsize = (5,5))\n",
    "fig.suptitle('Predictions for Infected', fontsize = 9)\n",
    "plt.rcParams.update({'axes.titlesize': 'small'})\n",
    "ax = fig.add_subplot(111)\n",
    "ax =sns.violinplot(x='Infected', y='pred',scale = 'count', inner = None, \n",
    "              hue='Infected', data=DAobserved_calculated, palette=['lime',  'red'], s=1, alpha = 0.2, marker = 'o');\n",
    "ax.legend(bbox_to_anchor=(1.5, 1),borderaxespad=0, fontsize = 9, frameon = False)\n",
    "\n",
    "ax.set_ylim([-2, 3.5])\n",
    "ax.xaxis.label.set_size(10)\n",
    "ax.yaxis.label.set_size(10)\n",
    "ax.axes.get_xaxis().set_visible(False)\n",
    "ax.tick_params(axis='both', which='major', labelsize=9)\n",
    "sns.despine()\n",
    "fig.savefig('{}/PLSDA_predictions.{}'.format(OutputDir, 'pdf'),  dpi=300)"
   ]
  },
  {
   "cell_type": "code",
   "execution_count": 16,
   "metadata": {},
   "outputs": [
    {
     "name": "stdout",
     "output_type": "stream",
     "text": [
      "Area under ROC curve: 0.989\n"
     ]
    }
   ],
   "source": [
    "DAy_calc = pls_DA.predict(pls_DA_x_values)\n",
    "observ = pls_DA_y\n",
    "predict = DAy_calc\n",
    "roc_auc = roc_auc_score(observ, predict)\n",
    "print('Area under ROC curve: {:.3f}'.format(roc_auc))"
   ]
  },
  {
   "cell_type": "code",
   "execution_count": 17,
   "metadata": {},
   "outputs": [
    {
     "data": {
      "image/png": "[encoded data removed]",
      "text/plain": [
       "<Figure size 360x288 with 1 Axes>"
      ]
     },
     "metadata": {},
     "output_type": "display_data"
    }
   ],
   "source": [
    "fpr, tpr, _ = roc_curve(observ, predict)\n",
    "\n",
    "plt.rcParams[\"figure.figsize\"] = (5,4)\n",
    "plt.figure()\n",
    "sns.set_style(\"white\")\n",
    "plt.plot(fpr, tpr, color='red', lw=2\n",
    "                 ,label='Area under ROC curve: {:0.3f}'.format(roc_auc))\n",
    "\n",
    "plt.plot([0, 1], [0, 1], 'k--', lw=2)\n",
    "plt.xlim([0, 1])\n",
    "plt.ylim([0, 1])\n",
    "plt.xlabel('False Positive Rate')\n",
    "plt.ylabel('True Positive Rate')\n",
    "plt.title('Receiver operating characteristics', fontdict={'fontsize': 12})\n",
    "plt.legend(loc=\"lower right\", prop={'size': 12}, frameon = False)\n",
    "plt.savefig('{}/ROC_area.{}'.format(OutputDir, 'pdf'),  dpi=300);"
   ]
  },
  {
   "cell_type": "code",
   "execution_count": 18,
   "metadata": {},
   "outputs": [
    {
     "name": "stdout",
     "output_type": "stream",
     "text": [
      "[0.9792274804658705, 0.9750217507226854, 0.9863849765258216, 0.9795639124293785, 0.9734033964978203]\n"
     ]
    },
    {
     "data": {
      "image/png": "[encoded data removed]",
      "text/plain": [
       "<Figure size 360x288 with 1 Axes>"
      ]
     },
     "metadata": {},
     "output_type": "display_data"
    }
   ],
   "source": [
    "cv = KFold(n_splits=5)\n",
    "tprs = []\n",
    "roc_aucs = []\n",
    "base_fpr = np.linspace(0, 1, 101)\n",
    "\n",
    "plt.rcParams[\"figure.figsize\"] = (5,4)\n",
    "plt.figure()\n",
    "sns.set_style(\"white\")\n",
    "\n",
    "for i, (train, test) in enumerate(cv.split(pls_DA_x_values, pls_DA_y_values)):\n",
    "    model = pls_DA.fit(pls_DA_x_values[train], pls_DA_y_values[train]) #.ravel())\n",
    "    y_score = model.predict(pls_DA_x_values[test])\n",
    "    fpr, tpr, _ = roc_curve(pls_DA_y_values[test].astype('int'), y_score[:, 0])\n",
    "    roc_auc = roc_auc_score(pls_DA_y_values[test].astype('int'), y_score[:, 0])\n",
    "    tpr = np.interp(base_fpr, fpr, tpr)\n",
    "    tpr[0] = 0.0\n",
    "    tprs.append(tpr)\n",
    "    roc_aucs.append(roc_auc)\n",
    "tprs = np.array(tprs)\n",
    "mean_tprs = tprs.mean(axis=0)\n",
    "std = tprs.std(axis=0)\n",
    "\n",
    "tprs_upper = np.minimum(mean_tprs + 1.15*std, 1)\n",
    "tprs_lower = mean_tprs - 1.15*std\n",
    "\n",
    "plt.plot(base_fpr, mean_tprs, 'r',  lw=1)\n",
    "plt.fill_between(base_fpr, tprs_lower, tprs_upper, color='b')\n",
    "\n",
    "plt.plot([0, 1], [0, 1], 'k--', lw=2)\n",
    "plt.xlim([-0.003, 1.003])\n",
    "plt.ylim([-0.003, 1.003])\n",
    "plt.ylabel('True Positive Rate')\n",
    "plt.xlabel('False Positive Rate')\n",
    "plt.title('Receiver operating characteristics', fontdict={'fontsize': 12})\n",
    "plt.savefig('{}/Cross-validated_ROC_area.{}'.format(OutputDir, 'pdf'),  dpi=300)\n",
    "print(roc_aucs)"
   ]
  },
  {
   "cell_type": "code",
   "execution_count": null,
   "metadata": {},
   "outputs": [],
   "source": []
  }
 ],
 "metadata": {
  "kernelspec": {
   "display_name": "Python 3",
   "language": "python",
   "name": "python3"
  },
  "language_info": {
   "codemirror_mode": {
    "name": "ipython",
    "version": 3
   },
   "file_extension": ".py",
   "mimetype": "text/x-python",
   "name": "python",
   "nbconvert_exporter": "python",
   "pygments_lexer": "ipython3",
   "version": "3.6.9"
  }
 },
 "nbformat": 4,
 "nbformat_minor": 4
}
